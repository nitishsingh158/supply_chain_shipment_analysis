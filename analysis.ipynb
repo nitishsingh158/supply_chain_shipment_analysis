{
 "metadata": {
  "language_info": {
   "codemirror_mode": {
    "name": "ipython",
    "version": 3
   },
   "file_extension": ".py",
   "mimetype": "text/x-python",
   "name": "python",
   "nbconvert_exporter": "python",
   "pygments_lexer": "ipython3",
   "version": "3.7.9-final"
  },
  "orig_nbformat": 2,
  "kernelspec": {
   "name": "python3",
   "display_name": "Python 3",
   "language": "python"
  }
 },
 "nbformat": 4,
 "nbformat_minor": 2,
 "cells": [
  {
   "cell_type": "code",
   "execution_count": 1,
   "metadata": {},
   "outputs": [],
   "source": [
    "import pandas as pd\n",
    "import numpy as np\n",
    "import matplotlib.pyplot as plt\n",
    "import seaborn as sns\n",
    "import tensorflow as tf\n",
    "from sklearn.metrics import confusion_matrix, classification_report\n",
    "from sklearn.model_selection import train_test_split\n",
    "from sklearn.preprocessing import StandardScaler\n",
    "sns.set()"
   ]
  },
  {
   "cell_type": "code",
   "execution_count": 2,
   "metadata": {},
   "outputs": [
    {
     "output_type": "execute_result",
     "data": {
      "text/plain": [
       "   ID Project Code            PQ # PO / SO # ASN/DN #        Country  \\\n",
       "0   1   100-CI-T01  Pre-PQ Process    SCMS-4    ASN-8  Côte d'Ivoire   \n",
       "1   3   108-VN-T01  Pre-PQ Process   SCMS-13   ASN-85        Vietnam   \n",
       "2   4   100-CI-T01  Pre-PQ Process   SCMS-20   ASN-14  Côte d'Ivoire   \n",
       "3  15   108-VN-T01  Pre-PQ Process   SCMS-78   ASN-50        Vietnam   \n",
       "4  16   108-VN-T01  Pre-PQ Process   SCMS-81   ASN-55        Vietnam   \n",
       "\n",
       "  Managed By  Fulfill Via Vendor INCO Term Shipment Mode  ...  \\\n",
       "0   PMO - US  Direct Drop              EXW           Air  ...   \n",
       "1   PMO - US  Direct Drop              EXW           Air  ...   \n",
       "2   PMO - US  Direct Drop              FCA           Air  ...   \n",
       "3   PMO - US  Direct Drop              EXW           Air  ...   \n",
       "4   PMO - US  Direct Drop              EXW           Air  ...   \n",
       "\n",
       "  Unit of Measure (Per Pack) Line Item Quantity Line Item Value Pack Price  \\\n",
       "0                         30                 19           551.0      29.00   \n",
       "1                        240               1000          6200.0       6.20   \n",
       "2                        100                500         40000.0      80.00   \n",
       "3                         60              31920        127360.8       3.99   \n",
       "4                         60              38000        121600.0       3.20   \n",
       "\n",
       "  Unit Price             Manufacturing Site First Line Designation  \\\n",
       "0       0.97     Ranbaxy Fine Chemicals LTD                    Yes   \n",
       "1       0.03      Aurobindo Unit III, India                    Yes   \n",
       "2       0.80  ABBVIE GmbH & Co.KG Wiesbaden                    Yes   \n",
       "3       0.07  Ranbaxy, Paonta Shahib, India                    Yes   \n",
       "4       0.05      Aurobindo Unit III, India                    Yes   \n",
       "\n",
       "  Weight (Kilograms) Freight Cost (USD) Line Item Insurance (USD)  \n",
       "0                 13             780.34                       NaN  \n",
       "1                358             4521.5                       NaN  \n",
       "2                171            1653.78                       NaN  \n",
       "3               1855           16007.06                       NaN  \n",
       "4               7590           45450.08                       NaN  \n",
       "\n",
       "[5 rows x 33 columns]"
      ],
      "text/html": "<div>\n<style scoped>\n    .dataframe tbody tr th:only-of-type {\n        vertical-align: middle;\n    }\n\n    .dataframe tbody tr th {\n        vertical-align: top;\n    }\n\n    .dataframe thead th {\n        text-align: right;\n    }\n</style>\n<table border=\"1\" class=\"dataframe\">\n  <thead>\n    <tr style=\"text-align: right;\">\n      <th></th>\n      <th>ID</th>\n      <th>Project Code</th>\n      <th>PQ #</th>\n      <th>PO / SO #</th>\n      <th>ASN/DN #</th>\n      <th>Country</th>\n      <th>Managed By</th>\n      <th>Fulfill Via</th>\n      <th>Vendor INCO Term</th>\n      <th>Shipment Mode</th>\n      <th>...</th>\n      <th>Unit of Measure (Per Pack)</th>\n      <th>Line Item Quantity</th>\n      <th>Line Item Value</th>\n      <th>Pack Price</th>\n      <th>Unit Price</th>\n      <th>Manufacturing Site</th>\n      <th>First Line Designation</th>\n      <th>Weight (Kilograms)</th>\n      <th>Freight Cost (USD)</th>\n      <th>Line Item Insurance (USD)</th>\n    </tr>\n  </thead>\n  <tbody>\n    <tr>\n      <th>0</th>\n      <td>1</td>\n      <td>100-CI-T01</td>\n      <td>Pre-PQ Process</td>\n      <td>SCMS-4</td>\n      <td>ASN-8</td>\n      <td>Côte d'Ivoire</td>\n      <td>PMO - US</td>\n      <td>Direct Drop</td>\n      <td>EXW</td>\n      <td>Air</td>\n      <td>...</td>\n      <td>30</td>\n      <td>19</td>\n      <td>551.0</td>\n      <td>29.00</td>\n      <td>0.97</td>\n      <td>Ranbaxy Fine Chemicals LTD</td>\n      <td>Yes</td>\n      <td>13</td>\n      <td>780.34</td>\n      <td>NaN</td>\n    </tr>\n    <tr>\n      <th>1</th>\n      <td>3</td>\n      <td>108-VN-T01</td>\n      <td>Pre-PQ Process</td>\n      <td>SCMS-13</td>\n      <td>ASN-85</td>\n      <td>Vietnam</td>\n      <td>PMO - US</td>\n      <td>Direct Drop</td>\n      <td>EXW</td>\n      <td>Air</td>\n      <td>...</td>\n      <td>240</td>\n      <td>1000</td>\n      <td>6200.0</td>\n      <td>6.20</td>\n      <td>0.03</td>\n      <td>Aurobindo Unit III, India</td>\n      <td>Yes</td>\n      <td>358</td>\n      <td>4521.5</td>\n      <td>NaN</td>\n    </tr>\n    <tr>\n      <th>2</th>\n      <td>4</td>\n      <td>100-CI-T01</td>\n      <td>Pre-PQ Process</td>\n      <td>SCMS-20</td>\n      <td>ASN-14</td>\n      <td>Côte d'Ivoire</td>\n      <td>PMO - US</td>\n      <td>Direct Drop</td>\n      <td>FCA</td>\n      <td>Air</td>\n      <td>...</td>\n      <td>100</td>\n      <td>500</td>\n      <td>40000.0</td>\n      <td>80.00</td>\n      <td>0.80</td>\n      <td>ABBVIE GmbH &amp; Co.KG Wiesbaden</td>\n      <td>Yes</td>\n      <td>171</td>\n      <td>1653.78</td>\n      <td>NaN</td>\n    </tr>\n    <tr>\n      <th>3</th>\n      <td>15</td>\n      <td>108-VN-T01</td>\n      <td>Pre-PQ Process</td>\n      <td>SCMS-78</td>\n      <td>ASN-50</td>\n      <td>Vietnam</td>\n      <td>PMO - US</td>\n      <td>Direct Drop</td>\n      <td>EXW</td>\n      <td>Air</td>\n      <td>...</td>\n      <td>60</td>\n      <td>31920</td>\n      <td>127360.8</td>\n      <td>3.99</td>\n      <td>0.07</td>\n      <td>Ranbaxy, Paonta Shahib, India</td>\n      <td>Yes</td>\n      <td>1855</td>\n      <td>16007.06</td>\n      <td>NaN</td>\n    </tr>\n    <tr>\n      <th>4</th>\n      <td>16</td>\n      <td>108-VN-T01</td>\n      <td>Pre-PQ Process</td>\n      <td>SCMS-81</td>\n      <td>ASN-55</td>\n      <td>Vietnam</td>\n      <td>PMO - US</td>\n      <td>Direct Drop</td>\n      <td>EXW</td>\n      <td>Air</td>\n      <td>...</td>\n      <td>60</td>\n      <td>38000</td>\n      <td>121600.0</td>\n      <td>3.20</td>\n      <td>0.05</td>\n      <td>Aurobindo Unit III, India</td>\n      <td>Yes</td>\n      <td>7590</td>\n      <td>45450.08</td>\n      <td>NaN</td>\n    </tr>\n  </tbody>\n</table>\n<p>5 rows × 33 columns</p>\n</div>"
     },
     "metadata": {},
     "execution_count": 2
    }
   ],
   "source": [
    "raw_df = pd.read_csv('SCMS_Delivery_History_Dataset.csv')\n",
    "raw_df.head()"
   ]
  },
  {
   "cell_type": "code",
   "execution_count": 3,
   "metadata": {},
   "outputs": [
    {
     "output_type": "stream",
     "name": "stdout",
     "text": [
      "<class 'pandas.core.frame.DataFrame'>\nRangeIndex: 10324 entries, 0 to 10323\nData columns (total 33 columns):\n #   Column                        Non-Null Count  Dtype  \n---  ------                        --------------  -----  \n 0   ID                            10324 non-null  int64  \n 1   Project Code                  10324 non-null  object \n 2   PQ #                          10324 non-null  object \n 3   PO / SO #                     10324 non-null  object \n 4   ASN/DN #                      10324 non-null  object \n 5   Country                       10324 non-null  object \n 6   Managed By                    10324 non-null  object \n 7   Fulfill Via                   10324 non-null  object \n 8   Vendor INCO Term              10324 non-null  object \n 9   Shipment Mode                 9964 non-null   object \n 10  PQ First Sent to Client Date  10324 non-null  object \n 11  PO Sent to Vendor Date        10324 non-null  object \n 12  Scheduled Delivery Date       10324 non-null  object \n 13  Delivered to Client Date      10324 non-null  object \n 14  Delivery Recorded Date        10324 non-null  object \n 15  Product Group                 10324 non-null  object \n 16  Sub Classification            10324 non-null  object \n 17  Vendor                        10324 non-null  object \n 18  Item Description              10324 non-null  object \n 19  Molecule/Test Type            10324 non-null  object \n 20  Brand                         10324 non-null  object \n 21  Dosage                        8588 non-null   object \n 22  Dosage Form                   10324 non-null  object \n 23  Unit of Measure (Per Pack)    10324 non-null  int64  \n 24  Line Item Quantity            10324 non-null  int64  \n 25  Line Item Value               10324 non-null  float64\n 26  Pack Price                    10324 non-null  float64\n 27  Unit Price                    10324 non-null  float64\n 28  Manufacturing Site            10324 non-null  object \n 29  First Line Designation        10324 non-null  object \n 30  Weight (Kilograms)            10324 non-null  object \n 31  Freight Cost (USD)            10324 non-null  object \n 32  Line Item Insurance (USD)     10037 non-null  float64\ndtypes: float64(4), int64(3), object(26)\nmemory usage: 2.6+ MB\n"
     ]
    }
   ],
   "source": [
    "raw_df.info()"
   ]
  },
  {
   "cell_type": "code",
   "execution_count": 21,
   "metadata": {},
   "outputs": [],
   "source": [
    "def preprocessing_data(df, label_mapping):\n",
    "    processed_data = df.copy()\n",
    "\n",
    "    #Drop ID Column\n",
    "    processed_data.drop('ID', axis=1, inplace=True)\n",
    "    #Drop Missing target rows\n",
    "    missing_target_rows = processed_data[processed_data['Shipment Mode'].isna()].index\n",
    "    processed_data = processed_data.drop(missing_target_rows, axis=0).reset_index(drop=True)\n",
    "    \n",
    "    #Fill in missing values\n",
    "    # Dosage with most frequent values\n",
    "    # Line Item with mean()\n",
    "    processed_data['Dosage'] = processed_data['Dosage'].fillna(processed_data['Dosage'].mode()[0])\n",
    "    processed_data['Line Item Insurance (USD)'] = \\\n",
    "        processed_data['Line Item Insurance (USD)'].fillna(processed_data['Line Item Insurance (USD)'].mean())\n",
    "\n",
    "    # Drop date columns with many missing values\n",
    "    processed_data = processed_data.drop(columns=['PQ First Sent to Client Date','PO Sent to Vendor Date'], axis=1)\n",
    "\n",
    "    # Extract date features\n",
    "    for column in ['Scheduled Delivery Date','Delivered to Client Date','Delivery Recorded Date']:\n",
    "        processed_data[column] = pd.to_datetime(processed_data[column])\n",
    "        processed_data[column+' year'] = processed_data[column].apply(lambda x: x.year)\n",
    "        processed_data.drop(column, axis=1, inplace=True)\n",
    "\n",
    "    # Drop columns 'Weight (Kilograms)','Freight Cost (USD)' with > 90% missing values\n",
    "    processed_data.drop(columns=['Weight (Kilograms)','Freight Cost (USD)'], axis=1, inplace=True) \n",
    "\n",
    "    # Drop high cardinality columns\n",
    "    processed_data.drop(columns=['PQ #','PO / SO #','ASN/DN #'], axis= 1, inplace=True)\n",
    "\n",
    "    # Binary Encoding\n",
    "    processed_data['Fulfill Via']  = processed_data['Fulfill Via'].apply(lambda x: 1 if x == 'Direct Drop' else 0)\n",
    "    processed_data['First Line Designation']  = \\\n",
    "        processed_data['First Line Designation'].apply(lambda x: 1 if x == 'Yes' else 0)\n",
    "\n",
    "    # One hot encoding \n",
    "    for column in processed_data.drop('Shipment Mode', axis=1).select_dtypes('object').columns:\n",
    "        dummies = pd.get_dummies(processed_data[column], prefix = column)\n",
    "        processed_data = pd.concat([processed_data, dummies], axis=1)\n",
    "        processed_data.drop(column, axis=1, inplace=True)\n",
    "    \n",
    "    # Split data\n",
    "    y = processed_data['Shipment Mode']\n",
    "    X = processed_data.drop('Shipment Mode', axis=1)\n",
    "\n",
    "    #Encode teh labels\n",
    "    y = y.replace(label_mapping)\n",
    "\n",
    "    # Train test split the data\n",
    "    X_train, X_test, y_train, y_test = train_test_split(X, y, test_size=0.3, random_state=41)\n",
    "\n",
    "    scaler = StandardScaler()\n",
    "    scaler.fit(X_train)\n",
    "    X_train = pd.DataFrame(scaler.transform(X_train), index=X_train.index, columns = X_train.columns)\n",
    "    X_test = pd.DataFrame(scaler.transform(X_test), index=X_test.index, columns = X_test.columns)\n",
    "\n",
    "    return X_train, X_test, y_train, y_test"
   ]
  },
  {
   "cell_type": "code",
   "execution_count": 22,
   "metadata": {},
   "outputs": [],
   "source": [
    "LABEL_MAPPING = {\n",
    "    'Air':1,\n",
    "    'Truck':2,\n",
    "    'Air Charter':3,\n",
    "    'Ocean':4\n",
    "}\n",
    "X_train, X_test, y_train, y_test = preprocessing_data(raw_df, label_mapping = LABEL_MAPPING)"
   ]
  },
  {
   "cell_type": "code",
   "execution_count": 23,
   "metadata": {},
   "outputs": [
    {
     "output_type": "execute_result",
     "data": {
      "text/plain": [
       "      Fulfill Via  Unit of Measure (Per Pack)  Line Item Quantity  \\\n",
       "7995    -0.973396                   -0.606820            0.054505   \n",
       "401      1.027331                    0.291721           -0.449258   \n",
       "5045     1.027331                    1.318625           -0.429718   \n",
       "9030    -0.973396                   -0.606820            0.633631   \n",
       "4539     1.027331                    2.088803           -0.402309   \n",
       "\n",
       "      Line Item Value  Pack Price  Unit Price  First Line Designation  \\\n",
       "7995        -0.177759   -0.413786   -0.198087               -1.464334   \n",
       "401         -0.401352    2.863044    0.364370                0.682904   \n",
       "5045        -0.319584    0.692473   -0.139119               -1.464334   \n",
       "9030         0.129201   -0.414762   -0.198087                0.682904   \n",
       "4539        -0.442043   -0.490122   -0.261590                0.682904   \n",
       "\n",
       "      Line Item Insurance (USD)  Scheduled Delivery Date year  \\\n",
       "7995                  -0.284657                      1.077039   \n",
       "401                    0.004506                     -1.825466   \n",
       "5045                  -0.283076                     -0.166892   \n",
       "9030                   0.406029                     -0.581535   \n",
       "4539                  -0.476847                      1.077039   \n",
       "\n",
       "      Delivered to Client Date year  ...  \\\n",
       "7995                       1.077630  ...   \n",
       "401                       -1.813858  ...   \n",
       "5045                      -0.161579  ...   \n",
       "9030                      -0.574649  ...   \n",
       "4539                       1.077630  ...   \n",
       "\n",
       "      Manufacturing Site_Ranbaxy per Shasun Pharma Ltd  \\\n",
       "7995                                         -0.011975   \n",
       "401                                          -0.011975   \n",
       "5045                                         -0.011975   \n",
       "9030                                         -0.011975   \n",
       "4539                                         -0.011975   \n",
       "\n",
       "      Manufacturing Site_Ranbaxy, Paonta Shahib, India  \\\n",
       "7995                                         -0.052267   \n",
       "401                                          -0.052267   \n",
       "5045                                         -0.052267   \n",
       "9030                                         -0.052267   \n",
       "4539                                         -0.052267   \n",
       "\n",
       "      Manufacturing Site_Remedica, Limassol, Cyprus  \\\n",
       "7995                                      -0.011975   \n",
       "401                                       -0.011975   \n",
       "5045                                      -0.011975   \n",
       "9030                                      -0.011975   \n",
       "4539                                      -0.011975   \n",
       "\n",
       "      Manufacturing Site_Roche Basel  Manufacturing Site_Roche Madrid  \\\n",
       "7995                       -0.065729                        -0.035947   \n",
       "401                        -0.065729                        -0.035947   \n",
       "5045                       -0.065729                        -0.035947   \n",
       "9030                       -0.065729                        -0.035947   \n",
       "4539                       -0.065729                        -0.035947   \n",
       "\n",
       "      Manufacturing Site_Standard Diagnostics, Korea  \\\n",
       "7995                                        -0.10704   \n",
       "401                                         -0.10704   \n",
       "5045                                        -0.10704   \n",
       "9030                                        -0.10704   \n",
       "4539                                        -0.10704   \n",
       "\n",
       "      Manufacturing Site_Strides, Bangalore, India.  \\\n",
       "7995                                      -0.238384   \n",
       "401                                       -0.238384   \n",
       "5045                                      -0.238384   \n",
       "9030                                       4.194918   \n",
       "4539                                      -0.238384   \n",
       "\n",
       "      Manufacturing Site_Trinity Biotech, Plc  \\\n",
       "7995                                -0.206793   \n",
       "401                                  4.835764   \n",
       "5045                                -0.206793   \n",
       "9030                                -0.206793   \n",
       "4539                                -0.206793   \n",
       "\n",
       "      Manufacturing Site_Weifa A.S., Hausmanngt. 6, P.O. Box 9113 GrÃ¸nland, 0133, Oslo, Norway  \\\n",
       "7995                                          -0.011975                                           \n",
       "401                                           -0.011975                                           \n",
       "5045                                          -0.011975                                           \n",
       "9030                                          -0.011975                                           \n",
       "4539                                          -0.011975                                           \n",
       "\n",
       "      Manufacturing Site_bioLytical Laboratories  \n",
       "7995                                   -0.023956  \n",
       "401                                    -0.023956  \n",
       "5045                                   -0.023956  \n",
       "9030                                   -0.023956  \n",
       "4539                                   -0.023956  \n",
       "\n",
       "[5 rows x 765 columns]"
      ],
      "text/html": "<div>\n<style scoped>\n    .dataframe tbody tr th:only-of-type {\n        vertical-align: middle;\n    }\n\n    .dataframe tbody tr th {\n        vertical-align: top;\n    }\n\n    .dataframe thead th {\n        text-align: right;\n    }\n</style>\n<table border=\"1\" class=\"dataframe\">\n  <thead>\n    <tr style=\"text-align: right;\">\n      <th></th>\n      <th>Fulfill Via</th>\n      <th>Unit of Measure (Per Pack)</th>\n      <th>Line Item Quantity</th>\n      <th>Line Item Value</th>\n      <th>Pack Price</th>\n      <th>Unit Price</th>\n      <th>First Line Designation</th>\n      <th>Line Item Insurance (USD)</th>\n      <th>Scheduled Delivery Date year</th>\n      <th>Delivered to Client Date year</th>\n      <th>...</th>\n      <th>Manufacturing Site_Ranbaxy per Shasun Pharma Ltd</th>\n      <th>Manufacturing Site_Ranbaxy, Paonta Shahib, India</th>\n      <th>Manufacturing Site_Remedica, Limassol, Cyprus</th>\n      <th>Manufacturing Site_Roche Basel</th>\n      <th>Manufacturing Site_Roche Madrid</th>\n      <th>Manufacturing Site_Standard Diagnostics, Korea</th>\n      <th>Manufacturing Site_Strides, Bangalore, India.</th>\n      <th>Manufacturing Site_Trinity Biotech, Plc</th>\n      <th>Manufacturing Site_Weifa A.S., Hausmanngt. 6, P.O. Box 9113 GrÃ¸nland, 0133, Oslo, Norway</th>\n      <th>Manufacturing Site_bioLytical Laboratories</th>\n    </tr>\n  </thead>\n  <tbody>\n    <tr>\n      <th>7995</th>\n      <td>-0.973396</td>\n      <td>-0.606820</td>\n      <td>0.054505</td>\n      <td>-0.177759</td>\n      <td>-0.413786</td>\n      <td>-0.198087</td>\n      <td>-1.464334</td>\n      <td>-0.284657</td>\n      <td>1.077039</td>\n      <td>1.077630</td>\n      <td>...</td>\n      <td>-0.011975</td>\n      <td>-0.052267</td>\n      <td>-0.011975</td>\n      <td>-0.065729</td>\n      <td>-0.035947</td>\n      <td>-0.10704</td>\n      <td>-0.238384</td>\n      <td>-0.206793</td>\n      <td>-0.011975</td>\n      <td>-0.023956</td>\n    </tr>\n    <tr>\n      <th>401</th>\n      <td>1.027331</td>\n      <td>0.291721</td>\n      <td>-0.449258</td>\n      <td>-0.401352</td>\n      <td>2.863044</td>\n      <td>0.364370</td>\n      <td>0.682904</td>\n      <td>0.004506</td>\n      <td>-1.825466</td>\n      <td>-1.813858</td>\n      <td>...</td>\n      <td>-0.011975</td>\n      <td>-0.052267</td>\n      <td>-0.011975</td>\n      <td>-0.065729</td>\n      <td>-0.035947</td>\n      <td>-0.10704</td>\n      <td>-0.238384</td>\n      <td>4.835764</td>\n      <td>-0.011975</td>\n      <td>-0.023956</td>\n    </tr>\n    <tr>\n      <th>5045</th>\n      <td>1.027331</td>\n      <td>1.318625</td>\n      <td>-0.429718</td>\n      <td>-0.319584</td>\n      <td>0.692473</td>\n      <td>-0.139119</td>\n      <td>-1.464334</td>\n      <td>-0.283076</td>\n      <td>-0.166892</td>\n      <td>-0.161579</td>\n      <td>...</td>\n      <td>-0.011975</td>\n      <td>-0.052267</td>\n      <td>-0.011975</td>\n      <td>-0.065729</td>\n      <td>-0.035947</td>\n      <td>-0.10704</td>\n      <td>-0.238384</td>\n      <td>-0.206793</td>\n      <td>-0.011975</td>\n      <td>-0.023956</td>\n    </tr>\n    <tr>\n      <th>9030</th>\n      <td>-0.973396</td>\n      <td>-0.606820</td>\n      <td>0.633631</td>\n      <td>0.129201</td>\n      <td>-0.414762</td>\n      <td>-0.198087</td>\n      <td>0.682904</td>\n      <td>0.406029</td>\n      <td>-0.581535</td>\n      <td>-0.574649</td>\n      <td>...</td>\n      <td>-0.011975</td>\n      <td>-0.052267</td>\n      <td>-0.011975</td>\n      <td>-0.065729</td>\n      <td>-0.035947</td>\n      <td>-0.10704</td>\n      <td>4.194918</td>\n      <td>-0.206793</td>\n      <td>-0.011975</td>\n      <td>-0.023956</td>\n    </tr>\n    <tr>\n      <th>4539</th>\n      <td>1.027331</td>\n      <td>2.088803</td>\n      <td>-0.402309</td>\n      <td>-0.442043</td>\n      <td>-0.490122</td>\n      <td>-0.261590</td>\n      <td>0.682904</td>\n      <td>-0.476847</td>\n      <td>1.077039</td>\n      <td>1.077630</td>\n      <td>...</td>\n      <td>-0.011975</td>\n      <td>-0.052267</td>\n      <td>-0.011975</td>\n      <td>-0.065729</td>\n      <td>-0.035947</td>\n      <td>-0.10704</td>\n      <td>-0.238384</td>\n      <td>-0.206793</td>\n      <td>-0.011975</td>\n      <td>-0.023956</td>\n    </tr>\n  </tbody>\n</table>\n<p>5 rows × 765 columns</p>\n</div>"
     },
     "metadata": {},
     "execution_count": 23
    }
   ],
   "source": [
    "X_train.head()"
   ]
  },
  {
   "source": [
    "# Training"
   ],
   "cell_type": "markdown",
   "metadata": {}
  },
  {
   "cell_type": "code",
   "execution_count": null,
   "metadata": {},
   "outputs": [],
   "source": [
    "inputs = tf.keras.Input(X_train.shape[1])"
   ]
  },
  {
   "cell_type": "code",
   "execution_count": null,
   "metadata": {},
   "outputs": [],
   "source": [
    "\n",
    "}"
   ]
  },
  {
   "cell_type": "code",
   "execution_count": null,
   "metadata": {},
   "outputs": [],
   "source": [
    "for column in ['Weight (Kilograms)','Freight Cost (USD)']:\n",
    "    print(processed_df[column].apply(lambda x: np.NaN if not x.isnumeric() else x).isna().mean())"
   ]
  },
  {
   "cell_type": "code",
   "execution_count": null,
   "metadata": {},
   "outputs": [],
   "source": []
  },
  {
   "cell_type": "code",
   "execution_count": null,
   "metadata": {},
   "outputs": [],
   "source": []
  }
 ]
}